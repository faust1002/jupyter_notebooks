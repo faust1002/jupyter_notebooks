{
 "cells": [
  {
   "cell_type": "markdown",
   "id": "a8705ec9-1e59-4491-9e17-bd916b677607",
   "metadata": {},
   "source": [
    "# IQ sampling"
   ]
  },
  {
   "cell_type": "markdown",
   "id": "17c5b383-417c-4571-b47e-0d85f3015cb4",
   "metadata": {},
   "source": [
    "This notebook presents IQ sampling techique"
   ]
  },
  {
   "cell_type": "markdown",
   "id": "9b345b17-f463-44c3-9ad0-1b36e578f08c",
   "metadata": {},
   "source": [
    "First, let us make sure that all dependencies are installed"
   ]
  },
  {
   "cell_type": "code",
   "execution_count": 1,
   "id": "39c7b665-30a3-4e3f-917d-b24f9140ca67",
   "metadata": {},
   "outputs": [
    {
     "name": "stdout",
     "output_type": "stream",
     "text": [
      "Requirement already satisfied: numpy in /opt/conda/lib/python3.13/site-packages (2.2.6)\n",
      "Requirement already satisfied: matplotlib in /opt/conda/lib/python3.13/site-packages (3.10.5)\n",
      "Requirement already satisfied: scipy in /opt/conda/lib/python3.13/site-packages (1.16.1)\n",
      "Requirement already satisfied: contourpy>=1.0.1 in /opt/conda/lib/python3.13/site-packages (from matplotlib) (1.3.3)\n",
      "Requirement already satisfied: cycler>=0.10 in /opt/conda/lib/python3.13/site-packages (from matplotlib) (0.12.1)\n",
      "Requirement already satisfied: fonttools>=4.22.0 in /opt/conda/lib/python3.13/site-packages (from matplotlib) (4.59.1)\n",
      "Requirement already satisfied: kiwisolver>=1.3.1 in /opt/conda/lib/python3.13/site-packages (from matplotlib) (1.4.9)\n",
      "Requirement already satisfied: packaging>=20.0 in /opt/conda/lib/python3.13/site-packages (from matplotlib) (25.0)\n",
      "Requirement already satisfied: pillow>=8 in /opt/conda/lib/python3.13/site-packages (from matplotlib) (11.3.0)\n",
      "Requirement already satisfied: pyparsing>=2.3.1 in /opt/conda/lib/python3.13/site-packages (from matplotlib) (3.2.3)\n",
      "Requirement already satisfied: python-dateutil>=2.7 in /opt/conda/lib/python3.13/site-packages (from matplotlib) (2.9.0.post0)\n",
      "Requirement already satisfied: six>=1.5 in /opt/conda/lib/python3.13/site-packages (from python-dateutil>=2.7->matplotlib) (1.17.0)\n"
     ]
    }
   ],
   "source": [
    "!pip install numpy matplotlib scipy"
   ]
  },
  {
   "cell_type": "markdown",
   "id": "b5a26f5e-84a0-4325-8f1a-63c3ee80d673",
   "metadata": {},
   "source": [
    "Next, let us import these dependencies"
   ]
  },
  {
   "cell_type": "code",
   "execution_count": 2,
   "id": "c1e68dc0-2bde-4c6f-bc39-71048d123673",
   "metadata": {},
   "outputs": [],
   "source": [
    "import numpy as np\n",
    "import matplotlib.pyplot as plt\n",
    "from scipy.signal import firwin, lfilter"
   ]
  },
  {
   "cell_type": "markdown",
   "id": "4c18d072-5809-4f31-8a64-834b62c6c456",
   "metadata": {},
   "source": [
    "## Regular sampling"
   ]
  },
  {
   "cell_type": "markdown",
   "id": "da9e952a-a9fc-4919-aa8b-92ceaa9ec5a8",
   "metadata": {},
   "source": [
    "Finally, let us generate a signal with five CW tones"
   ]
  },
  {
   "cell_type": "code",
   "execution_count": 3,
   "id": "72b6e138-76d2-477d-9923-690ff053ce61",
   "metadata": {},
   "outputs": [],
   "source": [
    "n = 5\n",
    "N = 16384\n",
    "fs = 1000\n",
    "spectral_resolution = fs / N\n",
    "f = np.array([np.arange(1, n + 1) * spectral_resolution * 1000])\n",
    "fmin = np.min(f)\n",
    "fmax = np.max(f)\n",
    "assert fmax <= fs / 2, f'f_max = {fmax} above f_s / 2 = {fs / 2}'\n",
    "t = np.arange(0, 4 * np.pi, 1 / fs)\n",
    "x = np.sin(2 * np.pi * np.dot(np.transpose(f), np.array([t])))\n",
    "x = np.sum(x, axis = 0)"
   ]
  },
  {
   "cell_type": "markdown",
   "id": "774ca3e0-c148-4c8c-a336-5c7c7f294bf4",
   "metadata": {},
   "source": [
    "It is time to compute double-sided FFT of the generated signal and plot it"
   ]
  },
  {
   "cell_type": "code",
   "execution_count": 4,
   "id": "27d34fcf-ca12-49e0-9be9-b96b8590c149",
   "metadata": {},
   "outputs": [
    {
     "data": {
      "text/plain": [
       "<StemContainer object of 3 artists>"
      ]
     },
     "execution_count": 4,
     "metadata": {},
     "output_type": "execute_result"
    },
    {
     "data": {
      "image/png": "[encoded data removed]",
      "text/plain": [
       "<Figure size 640x480 with 1 Axes>"
      ]
     },
     "metadata": {},
     "output_type": "display_data"
    }
   ],
   "source": [
    "X = np.fft.fftshift(np.fft.fft(x))\n",
    "freqs = np.fft.fftshift(np.fft.fftfreq(len(X), 1 / fs))\n",
    "magnitude = np.abs(X) / len(X)\n",
    "\n",
    "plt.figure()\n",
    "plt.grid()\n",
    "plt.stem(freqs, magnitude)"
   ]
  },
  {
   "cell_type": "markdown",
   "id": "cbd66e4a-227e-45fe-ad46-8a8d6875d299",
   "metadata": {},
   "source": [
    "As you can see above, we got twice as many peaks as expected. Furthermore, each peak has half of the expected magnitude. This is because the regular sampling does not preserve phase content."
   ]
  },
  {
   "cell_type": "markdown",
   "id": "54698404-7277-4546-8fc6-79c661146ec5",
   "metadata": {},
   "source": [
    "## IQ sampling"
   ]
  },
  {
   "cell_type": "markdown",
   "id": "94354b32-8588-467a-8db6-fab8d71d0c9e",
   "metadata": {},
   "source": [
    "Now, let us sample the generated signal using IQ technique"
   ]
  },
  {
   "cell_type": "code",
   "execution_count": 5,
   "id": "54a4036e-9d61-4225-813c-ba682d279b8b",
   "metadata": {},
   "outputs": [
    {
     "name": "stdout",
     "output_type": "stream",
     "text": [
      "fc = 183.10546875, fmin = 61.03515625, fmax = 305.17578125, fcutoff = 222.0703125\n"
     ]
    }
   ],
   "source": [
    "fc = (fmax + fmin) / 2\n",
    "x_i = x * np.cos(2 * np.pi * fc * t)\n",
    "x_q = -x * np.sin(2 * np.pi * fc * t)\n",
    "\n",
    "fcutoff = fmax - fc + 100\n",
    "print(f'fc = {fc}, fmin = {fmin}, fmax = {fmax}, fcutoff = {fcutoff}')\n",
    "numtaps = 101\n",
    "coeffs = firwin(numtaps, fcutoff, fs = fs)\n",
    "\n",
    "x_i = lfilter(coeffs, 1.0, x_i)\n",
    "x_q = lfilter(coeffs, 1.0, x_q)\n",
    "\n",
    "x = x_i + 1.0j * x_q"
   ]
  },
  {
   "cell_type": "markdown",
   "id": "93d8d47a-9620-49a8-a71a-1834d9f13a5e",
   "metadata": {},
   "source": [
    "Recompute the double-sided FFT"
   ]
  },
  {
   "cell_type": "code",
   "execution_count": 6,
   "id": "94c42933-f89d-4ed1-9274-bc8880361f88",
   "metadata": {},
   "outputs": [
    {
     "data": {
      "text/plain": [
       "<StemContainer object of 3 artists>"
      ]
     },
     "execution_count": 6,
     "metadata": {},
     "output_type": "execute_result"
    },
    {
     "data": {
      "image/png": "[encoded data removed]",
      "text/plain": [
       "<Figure size 640x480 with 1 Axes>"
      ]
     },
     "metadata": {},
     "output_type": "display_data"
    }
   ],
   "source": [
    "X = np.fft.fftshift(np.fft.fft(x))\n",
    "magnitude = np.abs(X) / len(X)\n",
    "\n",
    "plt.figure()\n",
    "plt.grid()\n",
    "plt.stem(freqs, magnitude)"
   ]
  },
  {
   "cell_type": "markdown",
   "id": "ed95a299-3037-4a16-8e36-4d0707661a55",
   "metadata": {},
   "source": [
    "After IQ sampling, we got five peaks. However, the magnitude was still half of the expected. This is because how the maths behind IQ sampling works. Long story short, sine function can be expressed as $$sin(\\phi) = \\frac{1}{2j}(e^{j\\phi} - e^{-j\\phi})$$"
   ]
  },
  {
   "cell_type": "markdown",
   "id": "ec5b1c76-8d1b-4855-b759-83004b7cbb32",
   "metadata": {},
   "source": [
    "IQ sampling gets rid of the second exponential term (hence the number of peaks matches our expectations), but not 1/2 term in the very beginning of that expression. Therefore magnitude is halved."
   ]
  }
 ],
 "metadata": {
  "kernelspec": {
   "display_name": "Python 3 (ipykernel)",
   "language": "python",
   "name": "python3"
  },
  "language_info": {
   "codemirror_mode": {
    "name": "ipython",
    "version": 3
   },
   "file_extension": ".py",
   "mimetype": "text/x-python",
   "name": "python",
   "nbconvert_exporter": "python",
   "pygments_lexer": "ipython3",
   "version": "3.13.5"
  }
 },
 "nbformat": 4,
 "nbformat_minor": 5
}
